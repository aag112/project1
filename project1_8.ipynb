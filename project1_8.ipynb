{
  "nbformat": 4,
  "nbformat_minor": 0,
  "metadata": {
    "colab": {
      "name": "project1/8.ipynb",
      "provenance": [],
      "collapsed_sections": [],
      "authorship_tag": "ABX9TyPbQMbgpXqsGghSBMNyP7oj",
      "include_colab_link": true
    },
    "kernelspec": {
      "name": "python3",
      "display_name": "Python 3"
    }
  },
  "cells": [
    {
      "cell_type": "markdown",
      "metadata": {
        "id": "view-in-github",
        "colab_type": "text"
      },
      "source": [
        "<a href=\"https://colab.research.google.com/github/aag112/project1/blob/master/project1_8.ipynb\" target=\"_parent\"><img src=\"https://colab.research.google.com/assets/colab-badge.svg\" alt=\"Open In Colab\"/></a>"
      ]
    },
    {
      "cell_type": "code",
      "metadata": {
        "colab": {
          "base_uri": "https://localhost:8080/"
        },
        "id": "wTelTtLUm8Sy",
        "outputId": "d0670893-ecc4-4935-ca02-872ce792f793"
      },
      "source": [
        "num = int(input(\"enter a number: \"))\n",
        "if num % 2 == 0:\n",
        "  print('{}'.format(num) + \" is even\")\n",
        "else:\n",
        "  print('{}'.format(num) + ' is odd')\n"
      ],
      "execution_count": 4,
      "outputs": [
        {
          "output_type": "stream",
          "text": [
            "enter a number: 4\n",
            "4 is even\n"
          ],
          "name": "stdout"
        }
      ]
    },
    {
      "cell_type": "code",
      "metadata": {
        "colab": {
          "base_uri": "https://localhost:8080/"
        },
        "id": "TGX3l7kLogQ5",
        "outputId": "9fe905ad-12a9-486e-d6c8-5d3acd9226cc"
      },
      "source": [
        "if num % 4 == 0:\n",
        "  print('{}'.format(num) + ' is a multiple of 4.')"
      ],
      "execution_count": 6,
      "outputs": [
        {
          "output_type": "stream",
          "text": [
            "4 is a multiple of 4.\n"
          ],
          "name": "stdout"
        }
      ]
    },
    {
      "cell_type": "code",
      "metadata": {
        "colab": {
          "base_uri": "https://localhost:8080/"
        },
        "id": "PxEeNYH-oylC",
        "outputId": "e6fde14b-bccb-4ecb-b0e2-a3c4170e8b46"
      },
      "source": [
        "num1 = int(input(\"enter a number: \"))\n",
        "num2 = int(input(\"enter another number: \"))\n",
        "if num1 % num2 == 0:\n",
        "  print(\"This divides evenly\")\n",
        "else:\n",
        "  print(\"this doesn't divide evenly\")"
      ],
      "execution_count": 18,
      "outputs": [
        {
          "output_type": "stream",
          "text": [
            "enter a number: 5\n",
            "enter another number: 4\n",
            "this doesn't divide evenly\n"
          ],
          "name": "stdout"
        }
      ]
    },
    {
      "cell_type": "code",
      "metadata": {
        "colab": {
          "base_uri": "https://localhost:8080/"
        },
        "id": "2jD_3m0TrVu5",
        "outputId": "270f22f2-02be-4e35-cf39-2af837cb068a"
      },
      "source": [
        "def evenodd(one, two):\n",
        "  if one % 2 == 0 and two % 2 == 0:\n",
        "    print('{}'.format(one, two) + ' are both even')\n",
        "  elif one % 2 != 0 and two % 2 != 0:\n",
        "    print('{}'.format(one, two) + ' are both odd')\n",
        "  elif one % 2 == 0 and two % 2 != 0:\n",
        "      print('{}'.format(one) + ' is even. ' + '{}'.format(two) + ' is odd.')  \n",
        "  elif one % 2 != 0 and two % 2 == 0:\n",
        "      print('{}'.format(one) + ' is odd. ' + '{}'.format(two) + ' is even.') \n",
        "evenodd(3,4)"
      ],
      "execution_count": 17,
      "outputs": [
        {
          "output_type": "stream",
          "text": [
            "3 is odd. 4 is even.\n"
          ],
          "name": "stdout"
        }
      ]
    }
  ]
}